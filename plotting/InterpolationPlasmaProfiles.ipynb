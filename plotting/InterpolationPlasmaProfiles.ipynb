{
 "cells": [
  {
   "cell_type": "code",
   "execution_count": 1,
   "id": "d1b9e679",
   "metadata": {},
   "outputs": [],
   "source": [
    "import sqlite3\n",
    "import torch\n",
    "\n",
    "import sklearn.metrics\n",
    "import h5py\n",
    "import numpy as np\n",
    "# import nn_learner\n",
    "import matplotlib.path as mpltPath\n",
    "# from glueCodeTypes import SolverCode, BGKInputs, BGKOutputs\n",
    "import numpy as np\n",
    "import matplotlib.pyplot as plt\n",
    "from enum import Enum, IntEnum\n",
    "import collections\n",
    "import torch\n",
    "import sklearn.metrics\n",
    "from shapely import geometry\n",
    "from shapely.geometry import Point\n",
    "\n",
    "import hdfdict\n",
    "import numpy as np\n",
    "import netCDF4 as nc\n",
    "import os\n",
    "import h5py"
   ]
  },
  {
   "cell_type": "code",
   "execution_count": 2,
   "id": "9c67bdb8",
   "metadata": {},
   "outputs": [],
   "source": [
    "# !pip install shapely\n",
    "# ! pip install hdfdict\n",
    "# !pip install netCDF4\n",
    "# !pip install h5py"
   ]
  },
  {
   "cell_type": "code",
   "execution_count": 3,
   "id": "4d02ec5d",
   "metadata": {},
   "outputs": [],
   "source": [
    "# path_data='/Users/42d/WEST/SOLEDGEx/'  # HARDCODED \n",
    "nR,nZ=500,1000"
   ]
  },
  {
   "cell_type": "code",
   "execution_count": 4,
   "id": "bb35fe1d",
   "metadata": {},
   "outputs": [],
   "source": [
    "def getAllGNDData(dbPath, solverCode):\n",
    "    selString = \"\"\n",
    "    if solverCode == SolverCode.BGK:\n",
    "        selString = \"SELECT * FROM SOLEDGE;\"\n",
    "    else:\n",
    "        raise Exception('Using Unsupported Solver Code')\n",
    "    sqlDB = sqlite3.connect(dbPath, timeout=45.0)\n",
    "    sqlCursor = sqlDB.cursor()\n",
    "    gndResults = []\n",
    "    for row in sqlCursor.execute(selString):\n",
    "        # Add row to numpy array\n",
    "        gndResults.append(row)\n",
    "    sqlCursor.close()\n",
    "    sqlDB.close()\n",
    "    return np.array(gndResults)\n",
    "\n",
    "def project_parallel_variable_xyz(variable,br,bt,bz):\n",
    "    btot = np.sqrt(np.multiply(br,br) + np.multiply(bt,bt) + np.multiply(bz,bz))\n",
    "\n",
    "    \n",
    "    variable_r = np.multiply(br,variable)/btot\n",
    "    variable_t = np.multiply(bt,variable)/btot\n",
    "    variable_z = np.multiply(bz,variable)/btot\n",
    "    \n",
    "    variable_r=np.nan_to_num(variable_r)\n",
    "    variable_t=np.nan_to_num(variable_t)\n",
    "    variable_z=np.nan_to_num(variable_z)\n",
    "    \n",
    "    return variable_r,variable_t,variable_z    \n",
    "\n",
    "\n",
    "def function(model, r,z):\n",
    "    \n",
    "    # Load torch model and return results for (r,z)\n",
    "    core=np.loadtxt(path_data+'core.csv', unpack=True)\n",
    "\n",
    "    Inputs = collections.namedtuple('SOLEDGE', 'R Z')\n",
    "    \n",
    "    L=[]\n",
    "    \n",
    "    core_ = [(core[0][i], core[1][i]) for i in range(len(core[0]))]\n",
    "    \n",
    "    mesh=h5py.File(path_data+'mesh.h5','r')\n",
    "    Rwall=mesh['/wall/R'][...]\n",
    "    Zwall=mesh['/wall/Z'][...]\n",
    "    wall = [(Rwall[i], Zwall[i]) for i in range(len(Zwall))]\n",
    "\n",
    "    for i in r:\n",
    "        val =[]\n",
    "        for j in z:\n",
    "            pts = [(i,j)]\n",
    "            s=Inputs(i, j)\n",
    "            inside_core = mpltPath.Path(core_).contains_points(pts)\n",
    "            inside_wall= mpltPath.Path(wall).contains_points(pts)\n",
    "            if inside_wall and not inside_core:\n",
    "                [b_phi,b_r,b_z,T_e,n_e,v_e,t_i,n_i,v_i]=[model(s)[0][i] for i in range(9)]\n",
    "            else:\n",
    "                [b_phi,b_r,b_z,T_e,n_e,v_e,t_i,n_i,v_i]=np.zeros(9)\n",
    "            val.append([b_phi,b_r,b_z,T_e,n_e,v_e,t_i,n_i,v_i])  \n",
    "        L.append(val)  \n",
    "    \n",
    "    return np.asarray(L)\n"
   ]
  },
  {
   "cell_type": "code",
   "execution_count": null,
   "id": "e1a1a2d1",
   "metadata": {},
   "outputs": [],
   "source": []
  },
  {
   "cell_type": "code",
   "execution_count": 5,
   "id": "303abacf",
   "metadata": {},
   "outputs": [
    {
     "name": "stdout",
     "output_type": "stream",
     "text": [
      "/Users/78k/Library/CloudStorage/OneDrive-OakRidgeNationalLaboratory/ORNL-ATUL-MBP/myRepos/SOLEDGE2D\r\n"
     ]
    }
   ],
   "source": [
    "!pwd"
   ]
  },
  {
   "cell_type": "code",
   "execution_count": 6,
   "id": "946b7661",
   "metadata": {},
   "outputs": [],
   "source": [
    "#Torch Model\n",
    "path='/Users/42d/WEST/Bfield/glueCode_proofOfConcept-master/DB/Skyrme/skyrme_model/'\n",
    "model=torch.load(path+\"data.pt\")\n",
    "fields= function(model, rdak,zdak)"
   ]
  },
  {
   "cell_type": "code",
   "execution_count": 7,
   "id": "0528abe5",
   "metadata": {},
   "outputs": [
    {
     "ename": "NameError",
     "evalue": "name 'fields' is not defined",
     "output_type": "error",
     "traceback": [
      "\u001b[0;31m---------------------------------------------------------------------------\u001b[0m",
      "\u001b[0;31mNameError\u001b[0m                                 Traceback (most recent call last)",
      "Cell \u001b[0;32mIn [7], line 1\u001b[0m\n\u001b[0;32m----> 1\u001b[0m [b_phi,b_r,b_z,T_e,n_e,v_e,t_i,n_i,v_i]\u001b[38;5;241m=\u001b[39m[fields[:,:,i] \u001b[38;5;28;01mfor\u001b[39;00m i \u001b[38;5;129;01min\u001b[39;00m \u001b[38;5;28mrange\u001b[39m(\u001b[38;5;241m9\u001b[39m)]\n",
      "Cell \u001b[0;32mIn [7], line 1\u001b[0m, in \u001b[0;36m<listcomp>\u001b[0;34m(.0)\u001b[0m\n\u001b[0;32m----> 1\u001b[0m [b_phi,b_r,b_z,T_e,n_e,v_e,t_i,n_i,v_i]\u001b[38;5;241m=\u001b[39m[\u001b[43mfields\u001b[49m[:,:,i] \u001b[38;5;28;01mfor\u001b[39;00m i \u001b[38;5;129;01min\u001b[39;00m \u001b[38;5;28mrange\u001b[39m(\u001b[38;5;241m9\u001b[39m)]\n",
      "\u001b[0;31mNameError\u001b[0m: name 'fields' is not defined"
     ]
    }
   ],
   "source": [
    "# [b_phi,b_r,b_z,T_e,n_e,v_e,t_i,n_i,v_i]=[fields[:,:,i] for i in range(9)]"
   ]
  },
  {
   "cell_type": "code",
   "execution_count": null,
   "id": "0c3374fa",
   "metadata": {},
   "outputs": [],
   "source": []
  },
  {
   "cell_type": "code",
   "execution_count": null,
   "id": "154375d7",
   "metadata": {},
   "outputs": [],
   "source": [
    "# off_grid_inds = np.where(n_i < 0)\n",
    "# n_i[off_grid_inds] = 0.0;\n",
    "\n",
    "# off_grid_inds = np.where(n_e < 0)\n",
    "# n_e[off_grid_inds] = 0.0;\n",
    "\n",
    "\n",
    "# off_grid_inds = np.where(T_e < 0)\n",
    "# t_emin=2.69422414e-05\n",
    "# T_e[off_grid_inds] = t_emin;\n",
    "\n",
    "# off_grid_inds = np.where(t_i < 0)\n",
    "# t_imin=1.71878994e-04\n",
    "# t_i[off_grid_inds] = t_imin;"
   ]
  },
  {
   "cell_type": "code",
   "execution_count": null,
   "id": "5fce012b",
   "metadata": {},
   "outputs": [],
   "source": [
    "# br=b_r\n",
    "# bz=b_z\n",
    "# bt=b_phi\n",
    "\n",
    "# vi=v_i\n",
    "# ni=n_i\n",
    "# V_para=vi\n",
    "\n",
    "# vel_r,vel_t,vel_z = project_parallel_variable_xyz(vi,br,bt,bz)"
   ]
  },
  {
   "cell_type": "code",
   "execution_count": null,
   "id": "c8ea9167",
   "metadata": {},
   "outputs": [],
   "source": []
  },
  {
   "cell_type": "code",
   "execution_count": null,
   "id": "e51ec4f1",
   "metadata": {},
   "outputs": [],
   "source": [
    "# btot = np.sqrt(np.multiply(br,br) + np.multiply(bt,bt) + np.multiply(bz,bz))"
   ]
  },
  {
   "cell_type": "code",
   "execution_count": null,
   "id": "c54e3198",
   "metadata": {},
   "outputs": [],
   "source": []
  },
  {
   "cell_type": "code",
   "execution_count": 9,
   "id": "2cbb2705",
   "metadata": {},
   "outputs": [],
   "source": []
  },
  {
   "cell_type": "code",
   "execution_count": 10,
   "id": "e58ec666",
   "metadata": {},
   "outputs": [],
   "source": [
    "# Create a plasma background file for GITR\n",
    "\n",
    "\n",
    "outputFileName='profiles'\n",
    "profiles_filename = str(outputFileName)+\".nc\"\n",
    "if os.path.exists(profiles_filename):\n",
    "    os.remove(profiles_filename)\n",
    "\n",
    "rootgrp = nc.Dataset(profiles_filename, \"w\", format=\"NETCDF4\")\n",
    "\n",
    "nrr = rootgrp.createDimension(\"nR\", nR)\n",
    "nzz = rootgrp.createDimension(\"nZ\", nZ)\n",
    "\n",
    "rr = rootgrp.createVariable(\"gridR\", \"f8\", (\"nR\"))\n",
    "zz = rootgrp.createVariable(\"gridZ\", \"f8\", (\"nZ\"))\n",
    "    \n",
    "nee = rootgrp.createVariable(\"ne\", \"f8\", (\"nZ\", \"nR\"))\n",
    "tee = rootgrp.createVariable(\"te\", \"f8\", (\"nZ\", \"nR\"))\n",
    "\n",
    "nii = rootgrp.createVariable(\"ni\", \"f8\", (\"nZ\", \"nR\"))\n",
    "tii = rootgrp.createVariable(\"ti\", \"f8\", (\"nZ\", \"nR\"))\n",
    "\n",
    "E_para = rootgrp.createVariable(\"Epara\", \"f8\", (\"nZ\", \"nR\"))\n",
    "Ett = rootgrp.createVariable(\"et\", \"f8\", (\"nZ\", \"nR\"))\n",
    "Err = rootgrp.createVariable(\"er\", \"f8\", (\"nZ\", \"nR\"))\n",
    "Ezz = rootgrp.createVariable(\"ez\", \"f8\", (\"nZ\", \"nR\"))\n",
    "    \n",
    "vtt = rootgrp.createVariable(\"vt\", \"f8\", (\"nZ\", \"nR\"))\n",
    "vrr = rootgrp.createVariable(\"vr\", \"f8\", (\"nZ\", \"nR\"))\n",
    "vzz = rootgrp.createVariable(\"vz\", \"f8\", (\"nZ\", \"nR\"))\n",
    "V_para = rootgrp.createVariable(\"Vpara\", \"f8\", (\"nZ\", \"nR\"))\n",
    "\n",
    "\n",
    "b_tot = rootgrp.createVariable(\"btot\", \"f8\", (\"nZ\", \"nR\"))\n",
    "brr = rootgrp.createVariable(\"br\", \"f8\", (\"nZ\", \"nR\"))\n",
    "btt = rootgrp.createVariable(\"bt\", \"f8\", (\"nZ\", \"nR\"))\n",
    "bzz = rootgrp.createVariable(\"bz\", \"f8\", (\"nZ\", \"nR\"))\n",
    "\n",
    "teer = rootgrp.createVariable(\"gradTeR\", \"f8\", (\"nZ\", \"nR\"))\n",
    "teez = rootgrp.createVariable(\"gradTeZ\", \"f8\", (\"nZ\", \"nR\"))\n",
    "teey = rootgrp.createVariable(\"gradTeY\", \"f8\", (\"nZ\", \"nR\"))\n",
    "\n",
    "tiir = rootgrp.createVariable(\"gradTiR\", \"f8\", (\"nZ\", \"nR\"))\n",
    "tiiz = rootgrp.createVariable(\"gradTiZ\", \"f8\", (\"nZ\", \"nR\"))\n",
    "tiiy = rootgrp.createVariable(\"gradTiY\", \"f8\", (\"nZ\", \"nR\"))\n"
   ]
  },
  {
   "cell_type": "code",
   "execution_count": 11,
   "id": "94859505",
   "metadata": {},
   "outputs": [
    {
     "name": "stdout",
     "output_type": "stream",
     "text": [
      "GT_data.txt                        mesh_raptorX.h5\r\n",
      "InterpolationPlasmaProfiles.ipynb  metric_raptorX.h5\r\n",
      "ProcessingSolEdgeData.ipynb        plasma_00010.h5\r\n",
      "mesh.h5                            profiles.nc\r\n",
      "meshEIRENE.h5                      refParam_raptorX.h5\r\n"
     ]
    }
   ],
   "source": [
    "%ls"
   ]
  },
  {
   "cell_type": "code",
   "execution_count": 12,
   "id": "a0444bf1",
   "metadata": {},
   "outputs": [],
   "source": [
    "data=nc.Dataset('profiles.nc')"
   ]
  },
  {
   "cell_type": "code",
   "execution_count": 16,
   "id": "61fe0d97",
   "metadata": {},
   "outputs": [],
   "source": [
    "rdak=np.linspace(1.8,3.6,500)\n",
    "zdak=np.linspace(-1,1,1000)"
   ]
  },
  {
   "cell_type": "code",
   "execution_count": 17,
   "id": "24e837d2",
   "metadata": {},
   "outputs": [],
   "source": [
    "rr[:] = rdak\n",
    "zz[:] = zdak\n",
    "nee[:] = ne"
   ]
  },
  {
   "cell_type": "code",
   "execution_count": 19,
   "id": "39a72471",
   "metadata": {},
   "outputs": [
    {
     "data": {
      "text/plain": [
       "<class 'netCDF4._netCDF4.Dataset'>\n",
       "root group (NETCDF4 data model, file format HDF5):\n",
       "    dimensions(sizes): nR(500), nZ(1000)\n",
       "    variables(dimensions): float64 gridR(nR), float64 gridZ(nZ), float64 ne(nZ, nR), float64 te(nZ, nR), float64 ni(nZ, nR), float64 ti(nZ, nR), float64 Epara(nZ, nR), float64 et(nZ, nR), float64 er(nZ, nR), float64 ez(nZ, nR), float64 vt(nZ, nR), float64 vr(nZ, nR), float64 vz(nZ, nR), float64 Vpara(nZ, nR), float64 btot(nZ, nR), float64 br(nZ, nR), float64 bt(nZ, nR), float64 bz(nZ, nR), float64 gradTeR(nZ, nR), float64 gradTeZ(nZ, nR), float64 gradTeY(nZ, nR), float64 gradTiR(nZ, nR), float64 gradTiZ(nZ, nR), float64 gradTiY(nZ, nR)\n",
       "    groups: "
      ]
     },
     "execution_count": 19,
     "metadata": {},
     "output_type": "execute_result"
    }
   ],
   "source": [
    "data=nc.Dataset('profiles.nc')\n",
    "data"
   ]
  },
  {
   "cell_type": "code",
   "execution_count": null,
   "id": "3b38f990",
   "metadata": {},
   "outputs": [],
   "source": [
    "rr[:] = rdak\n",
    "zz[:] = zdak\n",
    "\n",
    "nee[:] = n_e.T\n",
    "tee[:] = T_e.T\n",
    "\n",
    "nii[:] = n_i.T\n",
    "tii[:] = t_i.T\n",
    "\n",
    "b_tot[:] = btot.T\n",
    "brr[:] = br.T\n",
    "btt[:] = bt.T\n",
    "bzz[:] = bz.T\n",
    "\n",
    "V_para[:]= vi.T\n",
    "vrr[:] = vel_r.T\n",
    "vzz[:] = vel_z.T\n",
    "vtt[:] = vel_t.T\n",
    "\n",
    "Ett[:] = e_t\n",
    "Err[:] = e_par\n",
    "Ezz[:] = e_perp\n",
    "\n",
    "teer[:] = grad_te_r\n",
    "teez[:] = grad_te_z\n",
    "teey[:] = grad_te_t\n",
    "\n",
    "tiir[:] = grad_ti_r\n",
    "tiiz[:] = grad_ti_z\n",
    "tiiy[:] = grad_ti_t\n",
    "\n",
    "rootgrp.close()    "
   ]
  },
  {
   "cell_type": "code",
   "execution_count": null,
   "id": "68ec6ffb",
   "metadata": {},
   "outputs": [],
   "source": [
    "!pwd"
   ]
  },
  {
   "cell_type": "code",
   "execution_count": null,
   "id": "f991b7d1",
   "metadata": {},
   "outputs": [],
   "source": [
    "data=nc.Dataset('profiles.nc')"
   ]
  },
  {
   "cell_type": "code",
   "execution_count": null,
   "id": "4f49460b",
   "metadata": {},
   "outputs": [],
   "source": [
    "!pwd\n"
   ]
  },
  {
   "cell_type": "code",
   "execution_count": null,
   "id": "75a1ea20",
   "metadata": {},
   "outputs": [],
   "source": []
  }
 ],
 "metadata": {
  "kernelspec": {
   "display_name": "Python 3 (ipykernel)",
   "language": "python",
   "name": "python3"
  },
  "language_info": {
   "codemirror_mode": {
    "name": "ipython",
    "version": 3
   },
   "file_extension": ".py",
   "mimetype": "text/x-python",
   "name": "python",
   "nbconvert_exporter": "python",
   "pygments_lexer": "ipython3",
   "version": "3.10.8"
  }
 },
 "nbformat": 4,
 "nbformat_minor": 5
}
